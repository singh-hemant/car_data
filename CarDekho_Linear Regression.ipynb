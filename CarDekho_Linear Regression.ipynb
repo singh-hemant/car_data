{
 "cells": [
  {
   "cell_type": "markdown",
   "metadata": {},
   "source": [
    "## Importing Libraries"
   ]
  },
  {
   "cell_type": "code",
   "execution_count": 4,
   "metadata": {},
   "outputs": [],
   "source": [
    "import pandas as pd\n",
    "import numpy as np\n",
    "import matplotlib.pyplot as plt\n",
    "import seaborn as sns\n",
    "\n",
    "from sklearn.linear_model import LinearRegression\n",
    "from sklearn import metrics\n",
    "\n",
    "import warnings\n",
    "warnings.filterwarnings('ignore')"
   ]
  },
  {
   "cell_type": "markdown",
   "metadata": {},
   "source": [
    " ### Import data"
   ]
  },
  {
   "cell_type": "code",
   "execution_count": 5,
   "metadata": {},
   "outputs": [],
   "source": [
    "data = pd.read_csv(\"Car details v3.csv\")"
   ]
  },
  {
   "cell_type": "markdown",
   "metadata": {},
   "source": [
    "### Data Exploration"
   ]
  },
  {
   "cell_type": "code",
   "execution_count": 6,
   "metadata": {},
   "outputs": [
    {
     "data": {
      "text/plain": [
       "(8128, 13)"
      ]
     },
     "execution_count": 6,
     "metadata": {},
     "output_type": "execute_result"
    }
   ],
   "source": [
    "data.shape"
   ]
  },
  {
   "cell_type": "code",
   "execution_count": 7,
   "metadata": {},
   "outputs": [
    {
     "data": {
      "text/html": [
       "<div>\n",
       "<style scoped>\n",
       "    .dataframe tbody tr th:only-of-type {\n",
       "        vertical-align: middle;\n",
       "    }\n",
       "\n",
       "    .dataframe tbody tr th {\n",
       "        vertical-align: top;\n",
       "    }\n",
       "\n",
       "    .dataframe thead th {\n",
       "        text-align: right;\n",
       "    }\n",
       "</style>\n",
       "<table border=\"1\" class=\"dataframe\">\n",
       "  <thead>\n",
       "    <tr style=\"text-align: right;\">\n",
       "      <th></th>\n",
       "      <th>name</th>\n",
       "      <th>year</th>\n",
       "      <th>selling_price</th>\n",
       "      <th>km_driven</th>\n",
       "      <th>fuel</th>\n",
       "      <th>seller_type</th>\n",
       "      <th>transmission</th>\n",
       "      <th>owner</th>\n",
       "      <th>mileage</th>\n",
       "      <th>engine</th>\n",
       "      <th>max_power</th>\n",
       "      <th>torque</th>\n",
       "      <th>seats</th>\n",
       "    </tr>\n",
       "  </thead>\n",
       "  <tbody>\n",
       "    <tr>\n",
       "      <th>0</th>\n",
       "      <td>Maruti Swift Dzire VDI</td>\n",
       "      <td>2014</td>\n",
       "      <td>450000</td>\n",
       "      <td>145500</td>\n",
       "      <td>Diesel</td>\n",
       "      <td>Individual</td>\n",
       "      <td>Manual</td>\n",
       "      <td>First Owner</td>\n",
       "      <td>23.4 kmpl</td>\n",
       "      <td>1248 CC</td>\n",
       "      <td>74 bhp</td>\n",
       "      <td>190Nm@ 2000rpm</td>\n",
       "      <td>5.0</td>\n",
       "    </tr>\n",
       "    <tr>\n",
       "      <th>1</th>\n",
       "      <td>Skoda Rapid 1.5 TDI Ambition</td>\n",
       "      <td>2014</td>\n",
       "      <td>370000</td>\n",
       "      <td>120000</td>\n",
       "      <td>Diesel</td>\n",
       "      <td>Individual</td>\n",
       "      <td>Manual</td>\n",
       "      <td>Second Owner</td>\n",
       "      <td>21.14 kmpl</td>\n",
       "      <td>1498 CC</td>\n",
       "      <td>103.52 bhp</td>\n",
       "      <td>250Nm@ 1500-2500rpm</td>\n",
       "      <td>5.0</td>\n",
       "    </tr>\n",
       "    <tr>\n",
       "      <th>2</th>\n",
       "      <td>Honda City 2017-2020 EXi</td>\n",
       "      <td>2006</td>\n",
       "      <td>158000</td>\n",
       "      <td>140000</td>\n",
       "      <td>Petrol</td>\n",
       "      <td>Individual</td>\n",
       "      <td>Manual</td>\n",
       "      <td>Third Owner</td>\n",
       "      <td>17.7 kmpl</td>\n",
       "      <td>1497 CC</td>\n",
       "      <td>78 bhp</td>\n",
       "      <td>12.7@ 2,700(kgm@ rpm)</td>\n",
       "      <td>5.0</td>\n",
       "    </tr>\n",
       "    <tr>\n",
       "      <th>3</th>\n",
       "      <td>Hyundai i20 Sportz Diesel</td>\n",
       "      <td>2010</td>\n",
       "      <td>225000</td>\n",
       "      <td>127000</td>\n",
       "      <td>Diesel</td>\n",
       "      <td>Individual</td>\n",
       "      <td>Manual</td>\n",
       "      <td>First Owner</td>\n",
       "      <td>23.0 kmpl</td>\n",
       "      <td>1396 CC</td>\n",
       "      <td>90 bhp</td>\n",
       "      <td>22.4 kgm at 1750-2750rpm</td>\n",
       "      <td>5.0</td>\n",
       "    </tr>\n",
       "    <tr>\n",
       "      <th>4</th>\n",
       "      <td>Maruti Swift VXI BSIII</td>\n",
       "      <td>2007</td>\n",
       "      <td>130000</td>\n",
       "      <td>120000</td>\n",
       "      <td>Petrol</td>\n",
       "      <td>Individual</td>\n",
       "      <td>Manual</td>\n",
       "      <td>First Owner</td>\n",
       "      <td>16.1 kmpl</td>\n",
       "      <td>1298 CC</td>\n",
       "      <td>88.2 bhp</td>\n",
       "      <td>11.5@ 4,500(kgm@ rpm)</td>\n",
       "      <td>5.0</td>\n",
       "    </tr>\n",
       "  </tbody>\n",
       "</table>\n",
       "</div>"
      ],
      "text/plain": [
       "                           name  year  selling_price  km_driven    fuel  \\\n",
       "0        Maruti Swift Dzire VDI  2014         450000     145500  Diesel   \n",
       "1  Skoda Rapid 1.5 TDI Ambition  2014         370000     120000  Diesel   \n",
       "2      Honda City 2017-2020 EXi  2006         158000     140000  Petrol   \n",
       "3     Hyundai i20 Sportz Diesel  2010         225000     127000  Diesel   \n",
       "4        Maruti Swift VXI BSIII  2007         130000     120000  Petrol   \n",
       "\n",
       "  seller_type transmission         owner     mileage   engine   max_power  \\\n",
       "0  Individual       Manual   First Owner   23.4 kmpl  1248 CC      74 bhp   \n",
       "1  Individual       Manual  Second Owner  21.14 kmpl  1498 CC  103.52 bhp   \n",
       "2  Individual       Manual   Third Owner   17.7 kmpl  1497 CC      78 bhp   \n",
       "3  Individual       Manual   First Owner   23.0 kmpl  1396 CC      90 bhp   \n",
       "4  Individual       Manual   First Owner   16.1 kmpl  1298 CC    88.2 bhp   \n",
       "\n",
       "                     torque  seats  \n",
       "0            190Nm@ 2000rpm    5.0  \n",
       "1       250Nm@ 1500-2500rpm    5.0  \n",
       "2     12.7@ 2,700(kgm@ rpm)    5.0  \n",
       "3  22.4 kgm at 1750-2750rpm    5.0  \n",
       "4     11.5@ 4,500(kgm@ rpm)    5.0  "
      ]
     },
     "execution_count": 7,
     "metadata": {},
     "output_type": "execute_result"
    }
   ],
   "source": [
    "data.head()"
   ]
  },
  {
   "cell_type": "code",
   "execution_count": 8,
   "metadata": {},
   "outputs": [
    {
     "name": "stdout",
     "output_type": "stream",
     "text": [
      "<class 'pandas.core.frame.DataFrame'>\n",
      "RangeIndex: 8128 entries, 0 to 8127\n",
      "Data columns (total 13 columns):\n",
      " #   Column         Non-Null Count  Dtype  \n",
      "---  ------         --------------  -----  \n",
      " 0   name           8128 non-null   object \n",
      " 1   year           8128 non-null   int64  \n",
      " 2   selling_price  8128 non-null   int64  \n",
      " 3   km_driven      8128 non-null   int64  \n",
      " 4   fuel           8128 non-null   object \n",
      " 5   seller_type    8128 non-null   object \n",
      " 6   transmission   8128 non-null   object \n",
      " 7   owner          8128 non-null   object \n",
      " 8   mileage        7907 non-null   object \n",
      " 9   engine         7907 non-null   object \n",
      " 10  max_power      7913 non-null   object \n",
      " 11  torque         7906 non-null   object \n",
      " 12  seats          7907 non-null   float64\n",
      "dtypes: float64(1), int64(3), object(9)\n",
      "memory usage: 825.6+ KB\n"
     ]
    }
   ],
   "source": [
    "data.info()"
   ]
  },
  {
   "cell_type": "code",
   "execution_count": 9,
   "metadata": {},
   "outputs": [
    {
     "data": {
      "text/plain": [
       "name             2058\n",
       "year               29\n",
       "selling_price     677\n",
       "km_driven         921\n",
       "fuel                4\n",
       "seller_type         3\n",
       "transmission        2\n",
       "owner               5\n",
       "mileage           393\n",
       "engine            121\n",
       "max_power         322\n",
       "torque            441\n",
       "seats               9\n",
       "dtype: int64"
      ]
     },
     "execution_count": 9,
     "metadata": {},
     "output_type": "execute_result"
    }
   ],
   "source": [
    "data.nunique()"
   ]
  },
  {
   "cell_type": "code",
   "execution_count": 11,
   "metadata": {},
   "outputs": [
    {
     "data": {
      "text/plain": [
       "name               0\n",
       "year               0\n",
       "selling_price      0\n",
       "km_driven          0\n",
       "fuel               0\n",
       "seller_type        0\n",
       "transmission       0\n",
       "owner              0\n",
       "mileage          221\n",
       "engine           221\n",
       "max_power        215\n",
       "torque           222\n",
       "seats            221\n",
       "dtype: int64"
      ]
     },
     "execution_count": 11,
     "metadata": {},
     "output_type": "execute_result"
    }
   ],
   "source": [
    "data.isnull().sum()"
   ]
  },
  {
   "cell_type": "code",
   "execution_count": 12,
   "metadata": {},
   "outputs": [],
   "source": [
    "# Let's convert 'mileage', 'engine' and 'max_power' to float datatype\n",
    "data['mileage'] = data['mileage'].str.replace(\"kmpl\", '')\n",
    "data['engine'] = data['engine'].str.replace(\"CC\", '')\n",
    "data['max_power'] = data['max_power'].str.replace(\" bhp\", '')"
   ]
  },
  {
   "cell_type": "code",
   "execution_count": 14,
   "metadata": {},
   "outputs": [
    {
     "data": {
      "text/plain": [
       "array(['23.4 ', '21.14 ', '17.7 ', '23.0 ', '16.1 ', '20.14 ',\n",
       "       '17.3 km/kg', '23.59 ', '20.0 ', '19.01 ', '17.3 ', '19.3 ', nan,\n",
       "       '18.9 ', '18.15 ', '24.52 ', '19.7 ', '22.54 ', '21.0 ', '25.5 ',\n",
       "       '26.59 ', '21.5 ', '20.3 ', '21.4 ', '24.7 ', '18.2 ', '16.8 ',\n",
       "       '24.3 ', '14.0 ', '18.6 ', '33.44 km/kg', '23.95 ', '17.0 ',\n",
       "       '20.63 ', '13.93 ', '16.0 ', '17.8 ', '18.5 ', '12.55 ', '12.99 ',\n",
       "       '14.8 ', '13.5 ', '26.0 ', '20.65 ', '27.3 ', '11.36 ', '17.68 ',\n",
       "       '14.28 ', '18.53 ', '14.84 ', '21.12 ', '20.36 ', '21.27 ',\n",
       "       '18.16 ', '22.0 ', '25.1 ', '20.51 ', '21.66 ', '25.2 ', '22.9 ',\n",
       "       '16.02 ', '20.54 ', '22.77 ', '15.71 ', '23.1 ', '19.02 ',\n",
       "       '19.81 ', '26.2 km/kg', '16.47 ', '15.04 ', '19.1 ', '21.79 ',\n",
       "       '18.8 ', '21.21 ', '15.37 ', '11.79 ', '19.0 ', '14.3 ', '15.8 ',\n",
       "       '15.1 ', '19.09 ', '22.32 ', '21.9 ', '14.53 ', '21.63 ', '20.85 ',\n",
       "       '20.45 ', '19.67 ', '23.01 ', '20.77 ', '17.92 ', '17.01 ',\n",
       "       '22.37 ', '19.33 ', '9.5 ', '12.83 ', '22.48 ', '16.78 ', '14.67 ',\n",
       "       '15.0 ', '13.96 ', '18.0 ', '12.07 ', '26.21 ', '10.8 ', '16.3 ',\n",
       "       '13.6 ', '14.74 ', '15.6 ', '19.56 ', '22.69 ', '19.16 ', '18.12 ',\n",
       "       '12.1 ', '17.5 ', '42.0 ', '20.4 ', '21.1 ', '19.44 ', '13.0 ',\n",
       "       '21.43 ', '22.95 ', '16.2 ', '15.3 ', '28.09 ', '17.4 ', '19.4 ',\n",
       "       '26.6 km/kg', '17.6 ', '28.4 ', '14.1 ', '25.17 ', '22.74 ',\n",
       "       '17.57 ', '16.95 ', '19.49 ', '17.21 ', '13.2 ', '14.2 ', '26.8 ',\n",
       "       '25.4 ', '11.5 ', '27.28 ', '17.97 ', '12.8 ', '16.55 ', '12.05 ',\n",
       "       '14.07 ', '21.02 ', '11.57 ', '17.9 ', '15.96 ', '17.1 ', '17.19 ',\n",
       "       '21.01 ', '24.0 ', '25.6 ', '21.38 ', '23.84 ', '23.08 ', '14.24 ',\n",
       "       '20.71 ', '15.64 ', '14.5 ', '16.34 ', '27.39 ', '11.1 ', '13.9 ',\n",
       "       '20.88 km/kg', '20.92 ', '23.8 ', '24.4 ', '15.29 ', '21.19 ',\n",
       "       '22.5 ', '19.6 ', '23.65 ', '25.32 ', '23.5 ', '16.6 ', '23.9 ',\n",
       "       '20.8 ', '27.62 ', '12.9 ', '25.44 ', '17.88 ', '22.7 ', '17.2 ',\n",
       "       '15.42 ', '19.68 ', '18.7 ', '15.4 ', '19.34 ', '22.71 ', '25.8 ',\n",
       "       '13.7 ', '12.2 ', '18.49 ', '9.0 ', '0.0 ', '13.58 ', '10.1 ',\n",
       "       '20.5 ', '25.0 ', '10.5 ', '22.07 ', '22.3 ', '15.26 ', '20.62 ',\n",
       "       '27.4 ', '23.2 ', '14.4 ', '18.4 ', '30.46 km/kg', '14.02 ',\n",
       "       '11.0 ', '20.6 ', '22.05 ', '20.2 ', '18.1 ', '22.1 ', '19.87 ',\n",
       "       '13.01 ', '18.06 ', '26.1 ', '16.52 ', '13.55 ', '24.2 ', '25.83 ',\n",
       "       '11.2 ', '17.09 ', '21.03 ', '17.45 ', '21.64 ', '21.94 km/kg',\n",
       "       '13.87 ', '19.98 ', '20.52 ', '23.57 ', '11.7 ', '17.43 ',\n",
       "       '18.88 ', '13.68 ', '11.18 ', '20.89 ', '11.8 ', '19.62 ', '21.7 ',\n",
       "       '14.9 ', '19.5 ', '10.91 ', '15.7 ', '20.73 ', '15.85 ', '20.7 ',\n",
       "       '14.23 ', '16.5 ', '17.36 ', '12.6 ', '16.36 ', '14.95 ', '16.9 ',\n",
       "       '19.2 ', '16.96 ', '22.15 ', '18.78 ', '19.61 ', '17.71 ', '18.3 ',\n",
       "       '19.12 ', '19.72 ', '12.0 ', '11.4 ', '23.03 ', '11.07 ', '15.9 ',\n",
       "       '17.67 ', '20.46 ', '13.1 ', '13.45 km/kg', '24.8 ', '15.73 ',\n",
       "       '15.11 ', '12.7 ', '21.2 ', '20.38 ', '21.56 ', '13.22 ', '14.49 ',\n",
       "       '15.05 ', '23.26 ', '15.41 ', '13.8 ', '22.27 ', '32.52 km/kg',\n",
       "       '14.66 ', '12.12 ', '16.84 ', '14.09 ', '14.7 ', '13.4 ', '15.5 ',\n",
       "       '13.49 ', '11.88 km/kg', '14.6 ', '10.75 ', '24.5 ', '11.74 ',\n",
       "       '16.07 ', '15.63 ', '26.3 km/kg', '23.7 km/kg', '25.47 ', '17.05 ',\n",
       "       '23.3 ', '11.9 ', '13.38 ', '20.86 ', '19.2 km/kg', '10.9 ',\n",
       "       '18.25 ', '15.2 ', '20.37 ', '17.8 km/kg', '21.8 ', '11.96 ',\n",
       "       '24.04 ', '19.69 ', '13.73 ', '21.04 ', '25.01 ', '10.93 ',\n",
       "       '10.9 km/kg', '24.29 ', '13.44 ', '20.07 ', '21.1 km/kg', '19.08 ',\n",
       "       '20.34 ', '11.68 ', '12.5 ', '12.3 ', '23.87 ', '16.38 ', '17.42 ',\n",
       "       '10.0 ', '18.24 ', '10.71 ', '19.59 ', '16.7 ', '19.83 ', '21.76 ',\n",
       "       '16.05 ', '20.28 ', '16.25 ', '16.73 ', '18.48 ', '13.2 km/kg',\n",
       "       '21.4 km/kg', '14.99 ', '18.76 ', '16.4 ', '19.64 ', '14.94 ',\n",
       "       '16.6 km/kg', '16.0 km/kg', '17.11 ', '22.8 km/kg', '32.26 km/kg',\n",
       "       '33.0 km/kg', '12.4 ', '18.44 ', '16.09 ', '19.0 km/kg', '12.62 ',\n",
       "       '21.13 ', '15.17 ', '21.73 ', '21.72 ', '12.85 ', '14.81 ',\n",
       "       '13.24 ', '14.4 km/kg', '21.49 ', '14.62 ', '26.83 km/kg',\n",
       "       '11.45 ', '12.08 ', '15.74 ', '11.3 ', '15.1 km/kg', '14.21 ',\n",
       "       '11.72 ', '16.51 '], dtype=object)"
      ]
     },
     "execution_count": 14,
     "metadata": {},
     "output_type": "execute_result"
    }
   ],
   "source": [
    "data['mileage'].unique()"
   ]
  },
  {
   "cell_type": "code",
   "execution_count": 17,
   "metadata": {},
   "outputs": [],
   "source": [
    "data['mileage'] = data['mileage'].str.replace(\"km/kg\", '')"
   ]
  },
  {
   "cell_type": "code",
   "execution_count": 18,
   "metadata": {},
   "outputs": [
    {
     "data": {
      "text/plain": [
       "array(['1248 ', '1498 ', '1497 ', '1396 ', '1298 ', '1197 ', '1061 ',\n",
       "       '796 ', '1364 ', '1399 ', '1461 ', '993 ', nan, '1198 ', '1199 ',\n",
       "       '998 ', '1591 ', '2179 ', '1368 ', '2982 ', '2494 ', '2143 ',\n",
       "       '2477 ', '1462 ', '2755 ', '1968 ', '1798 ', '1196 ', '1373 ',\n",
       "       '1598 ', '1998 ', '1086 ', '1194 ', '1172 ', '1405 ', '1582 ',\n",
       "       '999 ', '2487 ', '1999 ', '3604 ', '2987 ', '1995 ', '1451 ',\n",
       "       '1969 ', '2967 ', '2497 ', '1797 ', '1991 ', '2362 ', '1493 ',\n",
       "       '1599 ', '1341 ', '1794 ', '799 ', '1193 ', '2696 ', '1495 ',\n",
       "       '1186 ', '1047 ', '2498 ', '2956 ', '2523 ', '1120 ', '624 ',\n",
       "       '1496 ', '1984 ', '2354 ', '814 ', '793 ', '1799 ', '936 ',\n",
       "       '1956 ', '1997 ', '1499 ', '1948 ', '2997 ', '2489 ', '2499 ',\n",
       "       '2609 ', '2953 ', '1150 ', '1994 ', '1388 ', '1527 ', '2199 ',\n",
       "       '995 ', '2993 ', '1586 ', '1390 ', '909 ', '2393 ', '3198 ',\n",
       "       '1339 ', '2835 ', '2092 ', '1595 ', '2496 ', '1596 ', '1597 ',\n",
       "       '2596 ', '2148 ', '1299 ', '1590 ', '2231 ', '2694 ', '2200 ',\n",
       "       '1795 ', '1896 ', '1796 ', '1422 ', '1489 ', '2359 ', '2197 ',\n",
       "       '2999 ', '1781 ', '2650 ', '1343 ', '2446 ', '3498 ', '2198 ',\n",
       "       '2776 ', '1950 '], dtype=object)"
      ]
     },
     "execution_count": 18,
     "metadata": {},
     "output_type": "execute_result"
    }
   ],
   "source": [
    "data['engine'].unique()"
   ]
  },
  {
   "cell_type": "code",
   "execution_count": 19,
   "metadata": {},
   "outputs": [
    {
     "data": {
      "text/plain": [
       "array(['74', '103.52', '78', '90', '88.2', '81.86', '57.5', '37', '67.1',\n",
       "       '68.1', '108.45', '60', '73.9', nan, '67', '82', '88.5', '46.3',\n",
       "       '88.73', '64.1', '98.6', '88.8', '83.81', '83.1', '47.3', '73.8',\n",
       "       '34.2', '35', '81.83', '40.3', '121.3', '138.03', '160.77',\n",
       "       '117.3', '116.3', '83.14', '67.05', '168.5', '100', '120.7',\n",
       "       '98.63', '175.56', '103.25', '171.5', '100.6', '174.33', '187.74',\n",
       "       '170', '78.9', '88.76', '86.8', '108.495', '108.62', '93.7',\n",
       "       '103.6', '98.59', '189', '67.04', '68.05', '58.2', '82.85',\n",
       "       '81.80', '73', '120', '94.68', '160', '65', '155', '69.01',\n",
       "       '126.32', '138.1', '83.8', '126.2', '98.96', '62.1', '86.7', '188',\n",
       "       '214.56', '177', '280', '148.31', '254.79', '190', '177.46', '204',\n",
       "       '141', '117.6', '241.4', '282', '150', '147.5', '108.5', '103.5',\n",
       "       '183', '181.04', '157.7', '164.7', '91.1', '400', '68', '75',\n",
       "       '85.8', '87.2', '53', '118', '103.2', '83', '84', '58.16',\n",
       "       '147.94', '74.02', '53.3', '80', '88.7', '97.7', '121.36', '162',\n",
       "       '140', '94', '100.57', '82.9', '83.11', '70', '153.86', '121',\n",
       "       '126.3', '73.97', '171', '69', '99.6', '102', '105', '63', '79.4',\n",
       "       '97.9', '63.1', '66.1', '110', '174.5', '53.26', '73.75', '67.06',\n",
       "       '64.08', '37.5', '189.3', '158.8', '61.7', '55.2', '71.01',\n",
       "       '73.74', '147.9', '71', '77', '121.4', '113.4', '47', '130',\n",
       "       '57.6', '138', '52.8', '53.64', '53.5', '76.8', '82.4', '113.42',\n",
       "       '76', '84.8', '0', '56.3', '218', '112', '92', '105.5', '169',\n",
       "       '95', '72.4', '115', '152', '91.2', '156', '74.9', '62', '105.3',\n",
       "       '73.94', '85.80', '85', '118.3', '72', '147.51', '58', '64',\n",
       "       '126.24', '76.9', '194.3', '99.23', '89.84', '123.7', '118.35',\n",
       "       '99', '241', '136', '261.4', '104.68', '37.48', '104', '88.50',\n",
       "       '63.12', '91.7', '102.5', '177.6', '45', '123.37', '147.8', '184',\n",
       "       '84.48', '68.07', '74.96', '167.6', '152.87', '112.2', '83.83',\n",
       "       '197', '110.4', '104.55', '103', '103.3', '66', '108.6', '165',\n",
       "       '163.7', '116.9', '94.93', '127', '198.5', '179.5', '120.69',\n",
       "       '121.31', '138.08', '187.7', '80.8', '86.79', '93.87', '116.6',\n",
       "       '143', '92.7', '88', '58.33', '78.8', '64.4', '125', '139.01',\n",
       "       '254.8', '181', '258', '55.23', '270.9', '265', '157.75', '101',\n",
       "       '186', '187.4', '224', '64.9', '148', '35.5', '89.75', '32.8',\n",
       "       '91.72', '106', '98.97', '66.6', '86', '65.3', '98.82', '198.25',\n",
       "       '38', '142', '132', '174.57', '178', '163.2', '203.2', '177.5',\n",
       "       '175', '57', '80.84', '68.4', '167.67', '170.63', '52', '149.5',\n",
       "       '48.21', '', '201.1', '100.5', '144', '194.4', '168.7', '104.5',\n",
       "       '103.26', '116.4', '98.79', '80.9', '58.3', '272', '235', '167.62',\n",
       "       '170.30', '139.46', '158', '110.5', '82.5', '141.1', '38.4',\n",
       "       '197.2', '161', '194', '122.4', '134.10', '60.2', '134', '203',\n",
       "       '135.1'], dtype=object)"
      ]
     },
     "execution_count": 19,
     "metadata": {},
     "output_type": "execute_result"
    }
   ],
   "source": [
    "data['max_power'].unique()"
   ]
  },
  {
   "cell_type": "code",
   "execution_count": null,
   "metadata": {},
   "outputs": [],
   "source": []
  },
  {
   "cell_type": "code",
   "execution_count": 20,
   "metadata": {},
   "outputs": [],
   "source": [
    "data['mileage'] = pd.to_numeric(data['mileage'])\n",
    "data['engine'] = pd.to_numeric(data['engine'])\n",
    "data['max_power'] = pd.to_numeric(data['max_power'])"
   ]
  },
  {
   "cell_type": "code",
   "execution_count": 21,
   "metadata": {},
   "outputs": [
    {
     "name": "stdout",
     "output_type": "stream",
     "text": [
      "<class 'pandas.core.frame.DataFrame'>\n",
      "RangeIndex: 8128 entries, 0 to 8127\n",
      "Data columns (total 13 columns):\n",
      " #   Column         Non-Null Count  Dtype  \n",
      "---  ------         --------------  -----  \n",
      " 0   name           8128 non-null   object \n",
      " 1   year           8128 non-null   int64  \n",
      " 2   selling_price  8128 non-null   int64  \n",
      " 3   km_driven      8128 non-null   int64  \n",
      " 4   fuel           8128 non-null   object \n",
      " 5   seller_type    8128 non-null   object \n",
      " 6   transmission   8128 non-null   object \n",
      " 7   owner          8128 non-null   object \n",
      " 8   mileage        7907 non-null   float64\n",
      " 9   engine         7907 non-null   float64\n",
      " 10  max_power      7912 non-null   float64\n",
      " 11  torque         7906 non-null   object \n",
      " 12  seats          7907 non-null   float64\n",
      "dtypes: float64(4), int64(3), object(6)\n",
      "memory usage: 825.6+ KB\n"
     ]
    }
   ],
   "source": [
    "data.info()"
   ]
  },
  {
   "cell_type": "code",
   "execution_count": 23,
   "metadata": {},
   "outputs": [
    {
     "data": {
      "text/plain": [
       "array(['190Nm@ 2000rpm', '250Nm@ 1500-2500rpm', '12.7@ 2,700(kgm@ rpm)',\n",
       "       '22.4 kgm at 1750-2750rpm', '11.5@ 4,500(kgm@ rpm)',\n",
       "       '113.75nm@ 4000rpm', '7.8@ 4,500(kgm@ rpm)', '59Nm@ 2500rpm',\n",
       "       '170Nm@ 1800-2400rpm', '160Nm@ 2000rpm', '248Nm@ 2250rpm',\n",
       "       '78Nm@ 4500rpm', nan, '84Nm@ 3500rpm', '115Nm@ 3500-3600rpm',\n",
       "       '200Nm@ 1750rpm', '62Nm@ 3000rpm', '219.7Nm@ 1500-2750rpm',\n",
       "       '114Nm@ 3500rpm', '115Nm@ 4000rpm', '69Nm@ 3500rpm',\n",
       "       '172.5Nm@ 1750rpm', '6.1kgm@ 3000rpm', '114.7Nm@ 4000rpm',\n",
       "       '60Nm@ 3500rpm', '90Nm@ 3500rpm', '151Nm@ 4850rpm',\n",
       "       '104Nm@ 4000rpm', '320Nm@ 1700-2700rpm', '250Nm@ 1750-2500rpm',\n",
       "       '145Nm@ 4600rpm', '146Nm@ 4800rpm', '343Nm@ 1400-3400rpm',\n",
       "       '200Nm@ 1400-3400rpm', '200Nm@ 1250-4000rpm',\n",
       "       '400Nm@ 2000-2500rpm', '138Nm@ 4400rpm', '360Nm@ 1200-3400rpm',\n",
       "       '200Nm@ 1200-3600rpm', '380Nm@ 1750-2500rpm', '173Nm@ 4000rpm',\n",
       "       '400Nm@ 1750-3000rpm', '400Nm@ 1400-2800rpm',\n",
       "       '200Nm@ 1750-3000rpm', '111.7Nm@ 4000rpm', '219.6Nm@ 1500-2750rpm',\n",
       "       '112Nm@ 4000rpm', '250Nm@ 1500-3000rpm', '130Nm@ 4000rpm',\n",
       "       '205Nm@ 1750-3250rpm', '280Nm@ 1350-4600rpm', '99.04Nm@ 4500rpm',\n",
       "       '77Nm@ 3500rpm', '110Nm@ 3750rpm', '153Nm@ 3800rpm',\n",
       "       '113.7Nm@ 4000rpm', '114Nm@ 4000rpm', '113Nm@ 4200rpm',\n",
       "       '101Nm@ 3000rpm', '290Nm@ 1800-2800rpm', '120Nm@ 4250rpm',\n",
       "       '250Nm@ 1500~4500rpm', '96 Nm at 3000 rpm', '360Nm@ 1750-2800rpm',\n",
       "       '135Nm@ 2500rpm', '259.8Nm@ 1900-2750rpm', '200Nm@ 1900rpm',\n",
       "       '259.9Nm@ 1900-2750rpm', '91Nm@ 4250rpm', '96.1Nm@ 3000rpm',\n",
       "       '109Nm@ 4500rpm', '400nm@ 1750-3000rpm', '202Nm@ 3600-5200rpm',\n",
       "       '430Nm@ 1750-2500rpm', '347Nm@ 4300rpm', '382nm@ 1750-2250rpm',\n",
       "       '620Nm@ 1600-2400rpm', '400Nm@ 1750-2500rpm', '250@ 1250-5000rpm',\n",
       "       '500Nm@ 1600-1800rpm', '250Nm@ 1600-3600rpm', '400Nm',\n",
       "       '550Nm@ 1750-2750rpm', '490Nm@ 1600rpm', '250 Nm at 2750 rpm',\n",
       "       '177.5Nm@ 4700rpm', '170Nm@ 1750-4000rpm', '300Nm@ 1200-4000rpm',\n",
       "       '300Nm@ 1200-1400rpm', '260Nm@ 1500-2750rpm', '213Nm@ 4500rpm',\n",
       "       '224Nm@ 4000rpm', '640Nm@ 1740rpm', '113Nm@ 4500rpm',\n",
       "       '95Nm@ 3000-4300rpm', '13.1kgm@ 4600rpm', '205Nm@ 1800-2800rpm',\n",
       "       '71Nm@ 3500rpm', '190Nm@ 1750-3000rpm', '146Nm at 4800 rpm',\n",
       "       '14.9 KGM at 3000 RPM', '115Nm@ 3200rpm', '117nm@ 4000rpm',\n",
       "       '320Nm@ 1500-3000rpm', '72Nm@ 4386rpm', '11.4 kgm at 4,000 rpm',\n",
       "       '140Nm@ 1500-4000rpm', '134Nm@ 4000rpm', '150Nm@ 4500rpm',\n",
       "       '340Nm@ 1800-3250rpm', '240Nm@ 1600-2800rpm',\n",
       "       '330Nm@ 1600-2800rpm', '12.5@ 3,500(kgm@ rpm)', '110Nm@ 4800rpm',\n",
       "       '111.8Nm@ 4000rpm', '11.8@ 3,200(kgm@ rpm)', '135.4Nm@ 2500rpm',\n",
       "       '300Nm@ 1750-2500rpm', '190.25nm@ 1750-2250rpm',\n",
       "       '140Nm@ 1800-3000rpm', '20.4@ 1400-3400(kgm@ rpm)',\n",
       "       '247Nm@ 1800-2000rpm', '223Nm@ 1600-2200rpm',\n",
       "       '180 Nm at 1440-1500rpm', '195Nm@ 1400-2200rpm',\n",
       "       '154.9Nm@ 4200rpm', '114.73Nm@ 4000rpm', '160Nm@ 1500-2750rpm',\n",
       "       '108Nm@ 4400rpm', '190.24nm@ 1750-2250rpm', '200Nm@ 2000-3500rpm',\n",
       "       '420Nm@ 1400-2600rpm', '100Nm@ 2700rpm', '51Nm@ 4000rpm',\n",
       "       '250Nm@ 1250-5300rpm', '132Nm@ 3000rpm', '350Nm@ 1500-2750rpm',\n",
       "       '218Nm@ 4200rpm', '14.9@ 3,000(kgm@ rpm)',\n",
       "       '24@ 1,900-2,750(kgm@ rpm)', '13.5@ 2,500(kgm@ rpm)',\n",
       "       '85Nm@ 3000rpm', '74.5Nm@ 4000rpm', '160Nm@ 1750rpm',\n",
       "       '180.4Nm@ 1750-2500rpm', '230Nm@ 1500-2500rpm',\n",
       "       '113.75Nm@ 4000rpm', '219.66nm@ 1500-2750rpm', '245Nm@ 1750rpm',\n",
       "       '360Nm@ 1400-3200rpm', '320Nm@ 2000rpm', '135 Nm at 2500  rpm ',\n",
       "       '24 KGM at 1900-2750 RPM', '190Nm@ 1750-2250rpm',\n",
       "       '204Nm@ 2000-2750rpm', '14.3@ 1,800-3,000(kgm@ rpm)',\n",
       "       '250nm@ 1500-2750rpm', '125Nm@ 2000rpm', '172Nm@ 4300rpm',\n",
       "       '150Nm@ 1750rpm', '102Nm@ 4000rpm', '85Nm@ 2500rpm',\n",
       "       '8.5@ 2,500(kgm@ rpm)', '180Nm@ 1440-1500rpm', '106.5Nm@ 4400rpm',\n",
       "       '108.5Nm@ 5000rpm', '350Nm@ 1750-2500rpm', '144.15nm@ 4500rpm',\n",
       "       '104Nm@ 4400rpm', '99Nm@ 4500rpm', '200Nm@ 2000rpm',\n",
       "       '280Nm@ 1800-2800rpm', '142.5Nm@ 1750rpm', '140Nm@ 4400rpm',\n",
       "       '115@ 2,500(kgm@ rpm)', '196Nm@ 5000rpm',\n",
       "       '260 Nm at 1800-2200 rpm', '9.8@ 3,000(kgm@ rpm)',\n",
       "       '209Nm@ 2000rpm', '135 Nm at 2500 rpm', '140Nm@ 4200rpm',\n",
       "       '220Nm at 1400-2600 rpm', '48Nm@ 3000rpm', '171Nm@ 1800rpm',\n",
       "       '277.5Nm@ 1700-2200rpm', '215Nm@ 3600rpm', '219.6Nm@ 1750-2750rpm',\n",
       "       '195Nm@ 1440-2200rpm', '13@ 2,500(kgm@ rpm)', '180Nm@ 2000rpm',\n",
       "       '200Nm@ 1400-2200rpm', '380Nm(38.7kgm)@ 2500rpm', '110Nm@ 4400rpm',\n",
       "       '72Nm@ 4388rpm', '263.7Nm@ 2500rpm', '320Nm@ 1600-2800rpm',\n",
       "       '25.5@ 1,500-3,000(kgm@ rpm)', '16.3@ 2,000(kgm@ rpm)',\n",
       "       '190 Nm at 1750 rpm ', '94.14Nm@ 3500rpm', '12@ 3,500(kgm@ rpm)',\n",
       "       '113Nm@ 5000rpm', '280Nm@ 2400-2800rpm', '96Nm@ 3500rpm',\n",
       "       '16@ 2,000(kgm@ rpm)', '320Nm@ 1750-3000rpm', '114.73nm@ 4000rpm',\n",
       "       '320Nm@ 1750-2500rpm', '138nm@ 4400rpm', '190Nm@ 1750rpm',\n",
       "       '789Nm@ 2250rpm', '259.87Nm@ 1900-2750rpm', '205Nm@ 1750rpm',\n",
       "       '436.39Nm@ 1800-2500rpm', '182.5Nm@ 1500-1800rpm',\n",
       "       '90.3Nm@ 4200rpm', '12.5@ 2,500(kgm@ rpm)', '215Nm@ 1750-3000rpm',\n",
       "       '215Nm@ 1750-3000', '305Nm@ 2000rpm', '540Nm@ 2000rpm',\n",
       "       '327Nm@ 2600rpm', '300Nm@ 1600-3000rpm', '620Nm@ 2000-2500rpm',\n",
       "       '450Nm@ 1600-2400rpm', '19@ 1,800(kgm@ rpm)',\n",
       "       '9.2@ 4,200(kgm@ rpm)', '145@ 4,100(kgm@ rpm)',\n",
       "       '51Nm@ 4000+/-500rpm', '110Nm@ 3000rpm', '148Nm@ 3500rpm',\n",
       "       '116Nm@ 4750rpm', '48@ 3,000+/-500(NM@ rpm)', '148Nm@ 4000rpm',\n",
       "       '222Nm@ 4300rpm', '135.3Nm@ 5000rpm', '98Nm@ 1600-3000rpm',\n",
       "       '170Nm@ 1400-4500rpm', '343Nm@ 1400-2800rpm',\n",
       "       '402Nm@ 1600-3000rpm', '113Nm@ 3300rpm', '99.07Nm@ 4500rpm',\n",
       "       '210nm@ 1600-2200rpm', '190 Nm at 1750  rpm ', '32.1kgm@ 2000rpm',\n",
       "       '224nm@ 1500-2750rpm', '400nm@ 1750-2500rpm',\n",
       "       '215Nm@ 1750-2500rpm', '25@ 1,800-2,800(kgm@ rpm)',\n",
       "       '197Nm@ 1750rpm', '136.3Nm@ 4200rpm', '470Nm@ 1750-2500rpm',\n",
       "       '11@ 3,000(kgm@ rpm)', '142Nm@ 4000rpm', '145Nm@ 4100rpm',\n",
       "       '320Nm@ 1500-2800rpm', '123Nm@ 1000-2500rpm',\n",
       "       '218Nm@ 1400-2600rpm', '510@ 1600-2400', '220Nm@ 1500-2750rpm',\n",
       "       '380Nm@ 2000rpm', '104Nm@ 3100rpm', '292Nm@ 2000rpm',\n",
       "       '20@ 3,750(kgm@ rpm)', '46.5@ 1,400-2,800(kgm@ rpm)',\n",
       "       '380Nm@ 2500rpm', '15@ 3,800(kgm@ rpm)', '136Nm@ 4250rpm',\n",
       "       '228Nm@ 4400rpm', '149Nm@ 4500rpm', '187Nm@ 2500rpm',\n",
       "       '146Nm@ 3400rpm', '8.6@ 3,500(kgm@ rpm)', '219.7Nm@ 1750-2750rpm',\n",
       "       '190Nm@ 2000-3000', '450Nm@ 2000rpm', '300Nm@ 2000rpm',\n",
       "       '230Nm@ 1800-2000rpm', '42@ 2,000(kgm@ rpm)',\n",
       "       '110Nm@ 3000-4300rpm', '110(11.2)@ 4800', '330Nm@ 1800rpm',\n",
       "       '225Nm@ 1500-2500rpm', '380Nm@ 1750-2750rpm',\n",
       "       '28.3@ 1,700-2,200(kgm@ rpm)', '259.88Nm@ 1900-2750rpm',\n",
       "       '580Nm@ 1400-3250rpm', '400 Nm /2000 rpm', '127Nm@ 3500rpm',\n",
       "       '300Nm@ 1500-2500rpm', '132.3Nm@ 4000rpm', '113nm@ 4400rpm',\n",
       "       '151NM@ 4850rpm', '153Nm@ 3750-3800rpm', '10.7@ 2,500(kgm@ rpm)',\n",
       "       '124.6Nm@ 3500rpm', '78Nm@ 3500rpm', '219.9Nm@ 1750-2750rpm',\n",
       "       '420.7Nm@ 1800-2500rpm', '130Nm@ 3000rpm', '424Nm@ 2000rpm',\n",
       "       '130@ 2500(kgm@ rpm)', '99.8Nm@ 2700rpm', '113Nm@ 4,500rpm',\n",
       "       '11.2@ 4,400(kgm@ rpm)', '240Nm@ 1850rpm', '16.1@ 4,200(kgm@ rpm)',\n",
       "       '320Nm@ 1750-2700rpm', '115Nm@ 4500rpm', '245Nm@ 4000rpm',\n",
       "       '321Nm@ 1600-2400rpm', '619Nm@ 1600-2400rpm',\n",
       "       '380Nm@ 1750-3000rpm', '560Nm@ 1500rpm', '230Nm@ 1500-2250rpm',\n",
       "       '90Nm@ 2650rpm', '260Nm@ 1800-2200rpm', '600Nm@ 2000rpm',\n",
       "       '259.87nm@ 1500-3000rpm', '16.6@ 4,500(kgm@ rpm)',\n",
       "       '219.66NM@ 1500-2750rpm', '12.5@ 3,000(kgm@ rpm)',\n",
       "       '620Nm@ 1500-2500rpm', '250Nm@ 1500-4500rpm',\n",
       "       '14.9@ 3,400(kgm@ rpm)', '25.5@ 1,900(kgm@ rpm)',\n",
       "       '33.7@ 1,800(kgm@ rpm)', '285Nm@ 2400-4000rpm',\n",
       "       '10.7@ 2,600(kgm@ rpm)', '250Nm@ 1000-2000rpm', '240Nm@ 1750rpm',\n",
       "       '226Nm@ 4400rpm', '510Nm@ 1600-2800rpm', '259.87NM@ 1500-3000rpm',\n",
       "       '155 Nm at 1600-2800 rpm', '240Nm@ 2000rpm', '103Nm@ 4500rpm',\n",
       "       '13.5@ 4,800(kgm@ rpm)', '400Nm@ 1750-2750rpm',\n",
       "       '175Nm@ 1500-4100rpm', '72.9Nm@ 2250rpm', '135.4Nm@ 2500',\n",
       "       '245Nm@ 5000rpm', '57Nm@ 2500rpm', '96Nm@ 2500rpm',\n",
       "       '215nm@ 1750-2500rpm', '10.4@ 3,200(kgm@ rpm)', '128Nm@ 3100rpm',\n",
       "       '102Nm@ 2600rpm', '131Nm@ 4400rpm', '11.4@ 4,000(kgm@ rpm)',\n",
       "       '250Nm@ 4250rpm', '343Nm@ 1600-2800rpm', '185Nm@ 1750-2750rpm',\n",
       "       '12@ 2500(kgm@ rpm)', '12.4@ 2,600(kgm@ rpm)', '170Nm@ 4200rpm',\n",
       "       '176Nm@ 1500rpm', '380NM@ 1800-2800rpm', '250Nm@ 1600-2000rpm',\n",
       "       '24.5@ 3,500-4,500(kgm@ rpm)', '22.9@ 1,950-4,700(kgm@ rpm)',\n",
       "       '113Nm@ 4400rpm', '121Nm@ 2800rpm', '210 / 1900',\n",
       "       '250Nm@ 1250-5000rpm', '400Nm@ 175-2750rpm', '350Nm@ 1500-3500rpm',\n",
       "       '175nm@ 1750-4000rpm', '115@ 2500(kgm@ rpm)', '110Nm@ 4500rpm',\n",
       "       '190Nm@ 2000-3000rpm', '106Nm@ 2200rpm',\n",
       "       '21.4@ 1,750-4,600(kgm@ rpm)', '96Nm@ 3000rpm',\n",
       "       '23.6@ 4,250(kgm@ rpm)', '11.3kgm@ 4700rpm', '450Nm@ 1750-2500rpm',\n",
       "       '35.7@ 1,750-3,000(kgm@ rpm)', '6@ 2,500(kgm@ rpm)',\n",
       "       '13.9 kgm at 4200 rpm', '320Nm@ 1400-4100rpm',\n",
       "       '150Nm@ 1700-4500rpm', '113.8Nm@ 4000rpm', '110@ 3,000(kgm@ rpm)',\n",
       "       '151Nm@ 2400rpm', '62Nm@ 2500rpm', '18@ 1,600-2,200(kgm@ rpm)',\n",
       "       '83Nm@ 3000rpm', '124.5Nm@ 3500rpm', '20@ 4,700(kgm@ rpm)',\n",
       "       '300Nm@ 1600-4000rpm', '171.6Nm@ 1500-4000rpm',\n",
       "       '21.4@ 1,900(kgm@ rpm)', '190@ 21,800(kgm@ rpm)',\n",
       "       '5.7@ 2,500(kgm@ rpm)', '88.4Nm@ 4200rpm',\n",
       "       '250 Nm at 1,500-3,000 rpm', '340nm@ 1750-3000rpm',\n",
       "       '36.6@ 1,750-2,500(kgm@ rpm)', '12.5kgm@ 3500rpm',\n",
       "       '6.1@ 3,000(kgm@ rpm)', '110Nm@ 4000rpm', '350nm@ 1800-2600rpm',\n",
       "       '175nm@ 1500-4100rpm', '4.8kgm@ 3000rpm', '355Nm@ 4500rpm',\n",
       "       '51@ 1,750-3,000(kgm@ rpm)', '119Nm@ 4250rpm',\n",
       "       '410Nm@ 1600-2800rpm', '174Nm@ 4300rpm', '99.1Nm@ 4500rpm',\n",
       "       '385Nm@ 1600-2500rpm', '180 Nm at 2000rpm', '190 Nm at 1750 rpm',\n",
       "       '53@ 2,000-2,750(kgm@ rpm)', '360Nm@ 1400-2600rpm',\n",
       "       '420Nm@ 2000rpm', '124Nm@ 3500rpm', '17.5@ 4,300(kgm@ rpm)',\n",
       "       '360Nm@ 2000rpm', '145Nm@ 3750rpm', '85Nm@ 3500rpm',\n",
       "       '190Nm@ 4200rpm', '190 Nm at 2000rpm', '13.5@ 2500(kgm@ rpm)',\n",
       "       '250nm@ 1500-3000rpm', '159.8Nm@ 1500-2750rpm', '500Nm@ 2000rpm',\n",
       "       '333Nm@ 1600-3200rpm', '400nm@ 2800rpm',\n",
       "       '33@ 2,000-2,680(kgm@ rpm)', '10.2@ 2,600(kgm@ rpm)', '480Nm',\n",
       "       '190Nm@ 4300rpm', '320Nm@ 1800-2800rpm', '380Nm@ 1750rpm',\n",
       "       '250.06nm@ 1500-2750rpm', '90nm@ 3500rpm', '190Nm@ 3700rpm',\n",
       "       '436.4Nm@ 1800-2500rpm', '96  Nm at 3000  rpm '], dtype=object)"
      ]
     },
     "execution_count": 23,
     "metadata": {},
     "output_type": "execute_result"
    }
   ],
   "source": [
    "data['torque'].unique()"
   ]
  },
  {
   "cell_type": "code",
   "execution_count": 24,
   "metadata": {},
   "outputs": [
    {
     "data": {
      "text/html": [
       "<div>\n",
       "<style scoped>\n",
       "    .dataframe tbody tr th:only-of-type {\n",
       "        vertical-align: middle;\n",
       "    }\n",
       "\n",
       "    .dataframe tbody tr th {\n",
       "        vertical-align: top;\n",
       "    }\n",
       "\n",
       "    .dataframe thead th {\n",
       "        text-align: right;\n",
       "    }\n",
       "</style>\n",
       "<table border=\"1\" class=\"dataframe\">\n",
       "  <thead>\n",
       "    <tr style=\"text-align: right;\">\n",
       "      <th></th>\n",
       "      <th>year</th>\n",
       "      <th>selling_price</th>\n",
       "      <th>km_driven</th>\n",
       "      <th>mileage</th>\n",
       "      <th>engine</th>\n",
       "      <th>max_power</th>\n",
       "      <th>seats</th>\n",
       "    </tr>\n",
       "  </thead>\n",
       "  <tbody>\n",
       "    <tr>\n",
       "      <th>year</th>\n",
       "      <td>1.000000</td>\n",
       "      <td>0.414092</td>\n",
       "      <td>-0.418006</td>\n",
       "      <td>0.329145</td>\n",
       "      <td>0.018848</td>\n",
       "      <td>0.226320</td>\n",
       "      <td>-0.009144</td>\n",
       "    </tr>\n",
       "    <tr>\n",
       "      <th>selling_price</th>\n",
       "      <td>0.414092</td>\n",
       "      <td>1.000000</td>\n",
       "      <td>-0.225534</td>\n",
       "      <td>-0.126054</td>\n",
       "      <td>0.455734</td>\n",
       "      <td>0.748489</td>\n",
       "      <td>0.041358</td>\n",
       "    </tr>\n",
       "    <tr>\n",
       "      <th>km_driven</th>\n",
       "      <td>-0.418006</td>\n",
       "      <td>-0.225534</td>\n",
       "      <td>1.000000</td>\n",
       "      <td>-0.173073</td>\n",
       "      <td>0.205914</td>\n",
       "      <td>-0.038075</td>\n",
       "      <td>0.227336</td>\n",
       "    </tr>\n",
       "    <tr>\n",
       "      <th>mileage</th>\n",
       "      <td>0.329145</td>\n",
       "      <td>-0.126054</td>\n",
       "      <td>-0.173073</td>\n",
       "      <td>1.000000</td>\n",
       "      <td>-0.575831</td>\n",
       "      <td>-0.374621</td>\n",
       "      <td>-0.452085</td>\n",
       "    </tr>\n",
       "    <tr>\n",
       "      <th>engine</th>\n",
       "      <td>0.018848</td>\n",
       "      <td>0.455734</td>\n",
       "      <td>0.205914</td>\n",
       "      <td>-0.575831</td>\n",
       "      <td>1.000000</td>\n",
       "      <td>0.703975</td>\n",
       "      <td>0.610309</td>\n",
       "    </tr>\n",
       "    <tr>\n",
       "      <th>max_power</th>\n",
       "      <td>0.226320</td>\n",
       "      <td>0.748489</td>\n",
       "      <td>-0.038075</td>\n",
       "      <td>-0.374621</td>\n",
       "      <td>0.703975</td>\n",
       "      <td>1.000000</td>\n",
       "      <td>0.191999</td>\n",
       "    </tr>\n",
       "    <tr>\n",
       "      <th>seats</th>\n",
       "      <td>-0.009144</td>\n",
       "      <td>0.041358</td>\n",
       "      <td>0.227336</td>\n",
       "      <td>-0.452085</td>\n",
       "      <td>0.610309</td>\n",
       "      <td>0.191999</td>\n",
       "      <td>1.000000</td>\n",
       "    </tr>\n",
       "  </tbody>\n",
       "</table>\n",
       "</div>"
      ],
      "text/plain": [
       "                   year  selling_price  km_driven   mileage    engine  \\\n",
       "year           1.000000       0.414092  -0.418006  0.329145  0.018848   \n",
       "selling_price  0.414092       1.000000  -0.225534 -0.126054  0.455734   \n",
       "km_driven     -0.418006      -0.225534   1.000000 -0.173073  0.205914   \n",
       "mileage        0.329145      -0.126054  -0.173073  1.000000 -0.575831   \n",
       "engine         0.018848       0.455734   0.205914 -0.575831  1.000000   \n",
       "max_power      0.226320       0.748489  -0.038075 -0.374621  0.703975   \n",
       "seats         -0.009144       0.041358   0.227336 -0.452085  0.610309   \n",
       "\n",
       "               max_power     seats  \n",
       "year            0.226320 -0.009144  \n",
       "selling_price   0.748489  0.041358  \n",
       "km_driven      -0.038075  0.227336  \n",
       "mileage        -0.374621 -0.452085  \n",
       "engine          0.703975  0.610309  \n",
       "max_power       1.000000  0.191999  \n",
       "seats           0.191999  1.000000  "
      ]
     },
     "execution_count": 24,
     "metadata": {},
     "output_type": "execute_result"
    }
   ],
   "source": [
    "data.corr()"
   ]
  },
  {
   "cell_type": "code",
   "execution_count": 27,
   "metadata": {},
   "outputs": [
    {
     "data": {
      "text/plain": [
       "<matplotlib.axes._subplots.AxesSubplot at 0x1adb3ae3898>"
      ]
     },
     "execution_count": 27,
     "metadata": {},
     "output_type": "execute_result"
    },
    {
     "data": {
      "image/png": "[encoded data removed]",
      "text/plain": [
       "<Figure size 720x432 with 2 Axes>"
      ]
     },
     "metadata": {},
     "output_type": "display_data"
    }
   ],
   "source": [
    "sns.set()\n",
    "plt.figure(figsize=(10, 6))\n",
    "sns.heatmap(data.corr(), annot=True)"
   ]
  },
  {
   "cell_type": "raw",
   "metadata": {},
   "source": [
    "Here are some conclusions I'm able to make based on above heatmap :-\n",
    " 1- The 'seats' column is almost non-correlated with the 'selling_price'\n",
    " 2- 'selling_price' is deeply corrrelated with 'max_power'\n",
    " 3- 'km_driven', 'year' and 'engine' have good correlation with the 'selling_price'"
   ]
  },
  {
   "cell_type": "code",
   "execution_count": 28,
   "metadata": {},
   "outputs": [
    {
     "data": {
      "text/html": [
       "<div>\n",
       "<style scoped>\n",
       "    .dataframe tbody tr th:only-of-type {\n",
       "        vertical-align: middle;\n",
       "    }\n",
       "\n",
       "    .dataframe tbody tr th {\n",
       "        vertical-align: top;\n",
       "    }\n",
       "\n",
       "    .dataframe thead th {\n",
       "        text-align: right;\n",
       "    }\n",
       "</style>\n",
       "<table border=\"1\" class=\"dataframe\">\n",
       "  <thead>\n",
       "    <tr style=\"text-align: right;\">\n",
       "      <th></th>\n",
       "      <th>year</th>\n",
       "      <th>selling_price</th>\n",
       "      <th>km_driven</th>\n",
       "      <th>mileage</th>\n",
       "      <th>engine</th>\n",
       "      <th>max_power</th>\n",
       "      <th>seats</th>\n",
       "    </tr>\n",
       "  </thead>\n",
       "  <tbody>\n",
       "    <tr>\n",
       "      <th>count</th>\n",
       "      <td>8128.000000</td>\n",
       "      <td>8.128000e+03</td>\n",
       "      <td>8.128000e+03</td>\n",
       "      <td>7907.000000</td>\n",
       "      <td>7907.000000</td>\n",
       "      <td>7912.000000</td>\n",
       "      <td>7907.000000</td>\n",
       "    </tr>\n",
       "    <tr>\n",
       "      <th>mean</th>\n",
       "      <td>2013.804011</td>\n",
       "      <td>6.382718e+05</td>\n",
       "      <td>6.981951e+04</td>\n",
       "      <td>19.418783</td>\n",
       "      <td>1458.625016</td>\n",
       "      <td>91.517919</td>\n",
       "      <td>5.416719</td>\n",
       "    </tr>\n",
       "    <tr>\n",
       "      <th>std</th>\n",
       "      <td>4.044249</td>\n",
       "      <td>8.062534e+05</td>\n",
       "      <td>5.655055e+04</td>\n",
       "      <td>4.037145</td>\n",
       "      <td>503.916303</td>\n",
       "      <td>35.822499</td>\n",
       "      <td>0.959588</td>\n",
       "    </tr>\n",
       "    <tr>\n",
       "      <th>min</th>\n",
       "      <td>1983.000000</td>\n",
       "      <td>2.999900e+04</td>\n",
       "      <td>1.000000e+00</td>\n",
       "      <td>0.000000</td>\n",
       "      <td>624.000000</td>\n",
       "      <td>0.000000</td>\n",
       "      <td>2.000000</td>\n",
       "    </tr>\n",
       "    <tr>\n",
       "      <th>25%</th>\n",
       "      <td>2011.000000</td>\n",
       "      <td>2.549990e+05</td>\n",
       "      <td>3.500000e+04</td>\n",
       "      <td>16.780000</td>\n",
       "      <td>1197.000000</td>\n",
       "      <td>68.050000</td>\n",
       "      <td>5.000000</td>\n",
       "    </tr>\n",
       "    <tr>\n",
       "      <th>50%</th>\n",
       "      <td>2015.000000</td>\n",
       "      <td>4.500000e+05</td>\n",
       "      <td>6.000000e+04</td>\n",
       "      <td>19.300000</td>\n",
       "      <td>1248.000000</td>\n",
       "      <td>82.000000</td>\n",
       "      <td>5.000000</td>\n",
       "    </tr>\n",
       "    <tr>\n",
       "      <th>75%</th>\n",
       "      <td>2017.000000</td>\n",
       "      <td>6.750000e+05</td>\n",
       "      <td>9.800000e+04</td>\n",
       "      <td>22.320000</td>\n",
       "      <td>1582.000000</td>\n",
       "      <td>102.000000</td>\n",
       "      <td>5.000000</td>\n",
       "    </tr>\n",
       "    <tr>\n",
       "      <th>max</th>\n",
       "      <td>2020.000000</td>\n",
       "      <td>1.000000e+07</td>\n",
       "      <td>2.360457e+06</td>\n",
       "      <td>42.000000</td>\n",
       "      <td>3604.000000</td>\n",
       "      <td>400.000000</td>\n",
       "      <td>14.000000</td>\n",
       "    </tr>\n",
       "  </tbody>\n",
       "</table>\n",
       "</div>"
      ],
      "text/plain": [
       "              year  selling_price     km_driven      mileage       engine  \\\n",
       "count  8128.000000   8.128000e+03  8.128000e+03  7907.000000  7907.000000   \n",
       "mean   2013.804011   6.382718e+05  6.981951e+04    19.418783  1458.625016   \n",
       "std       4.044249   8.062534e+05  5.655055e+04     4.037145   503.916303   \n",
       "min    1983.000000   2.999900e+04  1.000000e+00     0.000000   624.000000   \n",
       "25%    2011.000000   2.549990e+05  3.500000e+04    16.780000  1197.000000   \n",
       "50%    2015.000000   4.500000e+05  6.000000e+04    19.300000  1248.000000   \n",
       "75%    2017.000000   6.750000e+05  9.800000e+04    22.320000  1582.000000   \n",
       "max    2020.000000   1.000000e+07  2.360457e+06    42.000000  3604.000000   \n",
       "\n",
       "         max_power        seats  \n",
       "count  7912.000000  7907.000000  \n",
       "mean     91.517919     5.416719  \n",
       "std      35.822499     0.959588  \n",
       "min       0.000000     2.000000  \n",
       "25%      68.050000     5.000000  \n",
       "50%      82.000000     5.000000  \n",
       "75%     102.000000     5.000000  \n",
       "max     400.000000    14.000000  "
      ]
     },
     "execution_count": 28,
     "metadata": {},
     "output_type": "execute_result"
    }
   ],
   "source": [
    "data.describe()"
   ]
  },
  {
   "cell_type": "code",
   "execution_count": 41,
   "metadata": {},
   "outputs": [
    {
     "data": {
      "text/plain": [
       "<matplotlib.axes._subplots.AxesSubplot at 0x1adb5432fd0>"
      ]
     },
     "execution_count": 41,
     "metadata": {},
     "output_type": "execute_result"
    },
    {
     "data": {
      "image/png": "[encoded data removed]",
      "text/plain": [
       "<Figure size 1080x288 with 2 Axes>"
      ]
     },
     "metadata": {},
     "output_type": "display_data"
    }
   ],
   "source": [
    "f, axes = plt.subplots(1, 2)\n",
    "f.set_figwidth(15)\n",
    "sns.boxplot(data['year'], orient='v', ax = axes[0])\n",
    "sns.histplot(data['year'], ax=axes[1])"
   ]
  },
  {
   "cell_type": "code",
   "execution_count": 42,
   "metadata": {},
   "outputs": [
    {
     "data": {
      "text/plain": [
       "<matplotlib.axes._subplots.AxesSubplot at 0x1adb5c47c88>"
      ]
     },
     "execution_count": 42,
     "metadata": {},
     "output_type": "execute_result"
    },
    {
     "data": {
      "image/png": "[encoded data removed]",
      "text/plain": [
       "<Figure size 1080x288 with 2 Axes>"
      ]
     },
     "metadata": {},
     "output_type": "display_data"
    }
   ],
   "source": [
    "f, axes = plt.subplots(1, 2)\n",
    "f.set_figwidth(15)\n",
    "sns.boxplot(data['selling_price'], orient='v', ax = axes[0])\n",
    "sns.histplot(data['selling_price'], ax=axes[1])"
   ]
  },
  {
   "cell_type": "code",
   "execution_count": 43,
   "metadata": {},
   "outputs": [
    {
     "data": {
      "text/plain": [
       "<matplotlib.axes._subplots.AxesSubplot at 0x1adb60d1f60>"
      ]
     },
     "execution_count": 43,
     "metadata": {},
     "output_type": "execute_result"
    },
    {
     "data": {
      "image/png": "[encoded data removed]",
      "text/plain": [
       "<Figure size 432x288 with 1 Axes>"
      ]
     },
     "metadata": {},
     "output_type": "display_data"
    }
   ],
   "source": [
    "sns.scatterplot(x='year', y='selling_price', data=data)"
   ]
  },
  {
   "cell_type": "code",
   "execution_count": 44,
   "metadata": {},
   "outputs": [
    {
     "data": {
      "text/plain": [
       "<matplotlib.axes._subplots.AxesSubplot at 0x1adb5ee06a0>"
      ]
     },
     "execution_count": 44,
     "metadata": {},
     "output_type": "execute_result"
    },
    {
     "data": {
      "image/png": "[encoded data removed]",
      "text/plain": [
       "<Figure size 432x288 with 1 Axes>"
      ]
     },
     "metadata": {},
     "output_type": "display_data"
    }
   ],
   "source": [
    "sns.scatterplot(x='km_driven', y='selling_price', data=data)"
   ]
  },
  {
   "cell_type": "code",
   "execution_count": 45,
   "metadata": {},
   "outputs": [
    {
     "data": {
      "text/plain": [
       "<matplotlib.axes._subplots.AxesSubplot at 0x1adb6160940>"
      ]
     },
     "execution_count": 45,
     "metadata": {},
     "output_type": "execute_result"
    },
    {
     "data": {
      "image/png": "[encoded data removed]",
      "text/plain": [
       "<Figure size 432x288 with 1 Axes>"
      ]
     },
     "metadata": {},
     "output_type": "display_data"
    }
   ],
   "source": [
    "sns.scatterplot(x='max_power', y='selling_price', data=data)"
   ]
  },
  {
   "cell_type": "code",
   "execution_count": 46,
   "metadata": {},
   "outputs": [
    {
     "data": {
      "text/plain": [
       "<matplotlib.axes._subplots.AxesSubplot at 0x1adb6149358>"
      ]
     },
     "execution_count": 46,
     "metadata": {},
     "output_type": "execute_result"
    },
    {
     "data": {
      "image/png": "[encoded data removed]",
      "text/plain": [
       "<Figure size 432x288 with 1 Axes>"
      ]
     },
     "metadata": {},
     "output_type": "display_data"
    }
   ],
   "source": [
    "sns.scatterplot(x='engine', y='selling_price', data=data)"
   ]
  },
  {
   "cell_type": "markdown",
   "metadata": {},
   "source": [
    "### Prepare the data for Linear Regression"
   ]
  },
  {
   "cell_type": "code",
   "execution_count": 47,
   "metadata": {},
   "outputs": [
    {
     "data": {
      "text/html": [
       "<div>\n",
       "<style scoped>\n",
       "    .dataframe tbody tr th:only-of-type {\n",
       "        vertical-align: middle;\n",
       "    }\n",
       "\n",
       "    .dataframe tbody tr th {\n",
       "        vertical-align: top;\n",
       "    }\n",
       "\n",
       "    .dataframe thead th {\n",
       "        text-align: right;\n",
       "    }\n",
       "</style>\n",
       "<table border=\"1\" class=\"dataframe\">\n",
       "  <thead>\n",
       "    <tr style=\"text-align: right;\">\n",
       "      <th></th>\n",
       "      <th>name</th>\n",
       "      <th>year</th>\n",
       "      <th>selling_price</th>\n",
       "      <th>km_driven</th>\n",
       "      <th>fuel</th>\n",
       "      <th>seller_type</th>\n",
       "      <th>transmission</th>\n",
       "      <th>owner</th>\n",
       "      <th>mileage</th>\n",
       "      <th>engine</th>\n",
       "      <th>max_power</th>\n",
       "      <th>torque</th>\n",
       "      <th>seats</th>\n",
       "    </tr>\n",
       "  </thead>\n",
       "  <tbody>\n",
       "    <tr>\n",
       "      <th>8123</th>\n",
       "      <td>Hyundai i20 Magna</td>\n",
       "      <td>2013</td>\n",
       "      <td>320000</td>\n",
       "      <td>110000</td>\n",
       "      <td>Petrol</td>\n",
       "      <td>Individual</td>\n",
       "      <td>Manual</td>\n",
       "      <td>First Owner</td>\n",
       "      <td>18.50</td>\n",
       "      <td>1197.0</td>\n",
       "      <td>82.85</td>\n",
       "      <td>113.7Nm@ 4000rpm</td>\n",
       "      <td>5.0</td>\n",
       "    </tr>\n",
       "    <tr>\n",
       "      <th>8124</th>\n",
       "      <td>Hyundai Verna CRDi SX</td>\n",
       "      <td>2007</td>\n",
       "      <td>135000</td>\n",
       "      <td>119000</td>\n",
       "      <td>Diesel</td>\n",
       "      <td>Individual</td>\n",
       "      <td>Manual</td>\n",
       "      <td>Fourth &amp; Above Owner</td>\n",
       "      <td>16.80</td>\n",
       "      <td>1493.0</td>\n",
       "      <td>110.00</td>\n",
       "      <td>24@ 1,900-2,750(kgm@ rpm)</td>\n",
       "      <td>5.0</td>\n",
       "    </tr>\n",
       "    <tr>\n",
       "      <th>8125</th>\n",
       "      <td>Maruti Swift Dzire ZDi</td>\n",
       "      <td>2009</td>\n",
       "      <td>382000</td>\n",
       "      <td>120000</td>\n",
       "      <td>Diesel</td>\n",
       "      <td>Individual</td>\n",
       "      <td>Manual</td>\n",
       "      <td>First Owner</td>\n",
       "      <td>19.30</td>\n",
       "      <td>1248.0</td>\n",
       "      <td>73.90</td>\n",
       "      <td>190Nm@ 2000rpm</td>\n",
       "      <td>5.0</td>\n",
       "    </tr>\n",
       "    <tr>\n",
       "      <th>8126</th>\n",
       "      <td>Tata Indigo CR4</td>\n",
       "      <td>2013</td>\n",
       "      <td>290000</td>\n",
       "      <td>25000</td>\n",
       "      <td>Diesel</td>\n",
       "      <td>Individual</td>\n",
       "      <td>Manual</td>\n",
       "      <td>First Owner</td>\n",
       "      <td>23.57</td>\n",
       "      <td>1396.0</td>\n",
       "      <td>70.00</td>\n",
       "      <td>140Nm@ 1800-3000rpm</td>\n",
       "      <td>5.0</td>\n",
       "    </tr>\n",
       "    <tr>\n",
       "      <th>8127</th>\n",
       "      <td>Tata Indigo CR4</td>\n",
       "      <td>2013</td>\n",
       "      <td>290000</td>\n",
       "      <td>25000</td>\n",
       "      <td>Diesel</td>\n",
       "      <td>Individual</td>\n",
       "      <td>Manual</td>\n",
       "      <td>First Owner</td>\n",
       "      <td>23.57</td>\n",
       "      <td>1396.0</td>\n",
       "      <td>70.00</td>\n",
       "      <td>140Nm@ 1800-3000rpm</td>\n",
       "      <td>5.0</td>\n",
       "    </tr>\n",
       "  </tbody>\n",
       "</table>\n",
       "</div>"
      ],
      "text/plain": [
       "                        name  year  selling_price  km_driven    fuel  \\\n",
       "8123       Hyundai i20 Magna  2013         320000     110000  Petrol   \n",
       "8124   Hyundai Verna CRDi SX  2007         135000     119000  Diesel   \n",
       "8125  Maruti Swift Dzire ZDi  2009         382000     120000  Diesel   \n",
       "8126         Tata Indigo CR4  2013         290000      25000  Diesel   \n",
       "8127         Tata Indigo CR4  2013         290000      25000  Diesel   \n",
       "\n",
       "     seller_type transmission                 owner  mileage  engine  \\\n",
       "8123  Individual       Manual           First Owner    18.50  1197.0   \n",
       "8124  Individual       Manual  Fourth & Above Owner    16.80  1493.0   \n",
       "8125  Individual       Manual           First Owner    19.30  1248.0   \n",
       "8126  Individual       Manual           First Owner    23.57  1396.0   \n",
       "8127  Individual       Manual           First Owner    23.57  1396.0   \n",
       "\n",
       "      max_power                     torque  seats  \n",
       "8123      82.85           113.7Nm@ 4000rpm    5.0  \n",
       "8124     110.00  24@ 1,900-2,750(kgm@ rpm)    5.0  \n",
       "8125      73.90             190Nm@ 2000rpm    5.0  \n",
       "8126      70.00        140Nm@ 1800-3000rpm    5.0  \n",
       "8127      70.00        140Nm@ 1800-3000rpm    5.0  "
      ]
     },
     "execution_count": 47,
     "metadata": {},
     "output_type": "execute_result"
    }
   ],
   "source": [
    "data.tail()"
   ]
  },
  {
   "cell_type": "code",
   "execution_count": 48,
   "metadata": {},
   "outputs": [],
   "source": [
    "df = data.drop(['name', 'torque'], axis = 1)"
   ]
  },
  {
   "cell_type": "code",
   "execution_count": 49,
   "metadata": {},
   "outputs": [
    {
     "data": {
      "text/plain": [
       "year               0\n",
       "selling_price      0\n",
       "km_driven          0\n",
       "fuel               0\n",
       "seller_type        0\n",
       "transmission       0\n",
       "owner              0\n",
       "mileage          221\n",
       "engine           221\n",
       "max_power        216\n",
       "seats            221\n",
       "dtype: int64"
      ]
     },
     "execution_count": 49,
     "metadata": {},
     "output_type": "execute_result"
    }
   ],
   "source": [
    "df.isnull().sum()"
   ]
  },
  {
   "cell_type": "code",
   "execution_count": 50,
   "metadata": {},
   "outputs": [
    {
     "data": {
      "text/plain": [
       "count    7907.000000\n",
       "mean       19.418783\n",
       "std         4.037145\n",
       "min         0.000000\n",
       "25%        16.780000\n",
       "50%        19.300000\n",
       "75%        22.320000\n",
       "max        42.000000\n",
       "Name: mileage, dtype: float64"
      ]
     },
     "execution_count": 50,
     "metadata": {},
     "output_type": "execute_result"
    }
   ],
   "source": [
    "df['mileage'].describe()"
   ]
  },
  {
   "cell_type": "code",
   "execution_count": 51,
   "metadata": {},
   "outputs": [
    {
     "data": {
      "text/plain": [
       "<matplotlib.axes._subplots.AxesSubplot at 0x1adb620fdd8>"
      ]
     },
     "execution_count": 51,
     "metadata": {},
     "output_type": "execute_result"
    },
    {
     "data": {
      "image/png": "[encoded data removed]",
      "text/plain": [
       "<Figure size 432x288 with 1 Axes>"
      ]
     },
     "metadata": {},
     "output_type": "display_data"
    }
   ],
   "source": [
    "sns.histplot(df['mileage'])"
   ]
  },
  {
   "cell_type": "code",
   "execution_count": 53,
   "metadata": {},
   "outputs": [],
   "source": [
    "df['mileage'].fillna(df['mileage'].mean(), inplace=True)"
   ]
  },
  {
   "cell_type": "code",
   "execution_count": 56,
   "metadata": {},
   "outputs": [
    {
     "data": {
      "text/plain": [
       "count    7907.000000\n",
       "mean     1458.625016\n",
       "std       503.916303\n",
       "min       624.000000\n",
       "25%      1197.000000\n",
       "50%      1248.000000\n",
       "75%      1582.000000\n",
       "max      3604.000000\n",
       "Name: engine, dtype: float64"
      ]
     },
     "execution_count": 56,
     "metadata": {},
     "output_type": "execute_result"
    }
   ],
   "source": [
    "df['engine'].describe()"
   ]
  },
  {
   "cell_type": "code",
   "execution_count": 57,
   "metadata": {},
   "outputs": [
    {
     "data": {
      "text/plain": [
       "<matplotlib.axes._subplots.AxesSubplot at 0x1adb5ab1f60>"
      ]
     },
     "execution_count": 57,
     "metadata": {},
     "output_type": "execute_result"
    },
    {
     "data": {
      "image/png": "[encoded data removed]",
      "text/plain": [
       "<Figure size 432x288 with 1 Axes>"
      ]
     },
     "metadata": {},
     "output_type": "display_data"
    }
   ],
   "source": [
    "sns.boxplot(df['engine'])"
   ]
  },
  {
   "cell_type": "code",
   "execution_count": 65,
   "metadata": {},
   "outputs": [],
   "source": [
    "df.dropna(inplace=True)"
   ]
  },
  {
   "cell_type": "code",
   "execution_count": 66,
   "metadata": {},
   "outputs": [
    {
     "data": {
      "text/plain": [
       "year             0\n",
       "selling_price    0\n",
       "km_driven        0\n",
       "fuel             0\n",
       "seller_type      0\n",
       "transmission     0\n",
       "owner            0\n",
       "mileage          0\n",
       "engine           0\n",
       "max_power        0\n",
       "seats            0\n",
       "dtype: int64"
      ]
     },
     "execution_count": 66,
     "metadata": {},
     "output_type": "execute_result"
    }
   ],
   "source": [
    "df.isnull().sum()"
   ]
  },
  {
   "cell_type": "code",
   "execution_count": 67,
   "metadata": {},
   "outputs": [
    {
     "data": {
      "text/plain": [
       "(7906, 11)"
      ]
     },
     "execution_count": 67,
     "metadata": {},
     "output_type": "execute_result"
    }
   ],
   "source": [
    "df.shape"
   ]
  },
  {
   "cell_type": "code",
   "execution_count": 68,
   "metadata": {},
   "outputs": [
    {
     "data": {
      "text/html": [
       "<div>\n",
       "<style scoped>\n",
       "    .dataframe tbody tr th:only-of-type {\n",
       "        vertical-align: middle;\n",
       "    }\n",
       "\n",
       "    .dataframe tbody tr th {\n",
       "        vertical-align: top;\n",
       "    }\n",
       "\n",
       "    .dataframe thead th {\n",
       "        text-align: right;\n",
       "    }\n",
       "</style>\n",
       "<table border=\"1\" class=\"dataframe\">\n",
       "  <thead>\n",
       "    <tr style=\"text-align: right;\">\n",
       "      <th></th>\n",
       "      <th>year</th>\n",
       "      <th>selling_price</th>\n",
       "      <th>km_driven</th>\n",
       "      <th>fuel</th>\n",
       "      <th>seller_type</th>\n",
       "      <th>transmission</th>\n",
       "      <th>owner</th>\n",
       "      <th>mileage</th>\n",
       "      <th>engine</th>\n",
       "      <th>max_power</th>\n",
       "      <th>seats</th>\n",
       "    </tr>\n",
       "  </thead>\n",
       "  <tbody>\n",
       "    <tr>\n",
       "      <th>0</th>\n",
       "      <td>2014</td>\n",
       "      <td>450000</td>\n",
       "      <td>145500</td>\n",
       "      <td>Diesel</td>\n",
       "      <td>Individual</td>\n",
       "      <td>Manual</td>\n",
       "      <td>First Owner</td>\n",
       "      <td>23.40</td>\n",
       "      <td>1248.0</td>\n",
       "      <td>74.00</td>\n",
       "      <td>5.0</td>\n",
       "    </tr>\n",
       "    <tr>\n",
       "      <th>1</th>\n",
       "      <td>2014</td>\n",
       "      <td>370000</td>\n",
       "      <td>120000</td>\n",
       "      <td>Diesel</td>\n",
       "      <td>Individual</td>\n",
       "      <td>Manual</td>\n",
       "      <td>Second Owner</td>\n",
       "      <td>21.14</td>\n",
       "      <td>1498.0</td>\n",
       "      <td>103.52</td>\n",
       "      <td>5.0</td>\n",
       "    </tr>\n",
       "    <tr>\n",
       "      <th>2</th>\n",
       "      <td>2006</td>\n",
       "      <td>158000</td>\n",
       "      <td>140000</td>\n",
       "      <td>Petrol</td>\n",
       "      <td>Individual</td>\n",
       "      <td>Manual</td>\n",
       "      <td>Third Owner</td>\n",
       "      <td>17.70</td>\n",
       "      <td>1497.0</td>\n",
       "      <td>78.00</td>\n",
       "      <td>5.0</td>\n",
       "    </tr>\n",
       "    <tr>\n",
       "      <th>3</th>\n",
       "      <td>2010</td>\n",
       "      <td>225000</td>\n",
       "      <td>127000</td>\n",
       "      <td>Diesel</td>\n",
       "      <td>Individual</td>\n",
       "      <td>Manual</td>\n",
       "      <td>First Owner</td>\n",
       "      <td>23.00</td>\n",
       "      <td>1396.0</td>\n",
       "      <td>90.00</td>\n",
       "      <td>5.0</td>\n",
       "    </tr>\n",
       "    <tr>\n",
       "      <th>4</th>\n",
       "      <td>2007</td>\n",
       "      <td>130000</td>\n",
       "      <td>120000</td>\n",
       "      <td>Petrol</td>\n",
       "      <td>Individual</td>\n",
       "      <td>Manual</td>\n",
       "      <td>First Owner</td>\n",
       "      <td>16.10</td>\n",
       "      <td>1298.0</td>\n",
       "      <td>88.20</td>\n",
       "      <td>5.0</td>\n",
       "    </tr>\n",
       "  </tbody>\n",
       "</table>\n",
       "</div>"
      ],
      "text/plain": [
       "   year  selling_price  km_driven    fuel seller_type transmission  \\\n",
       "0  2014         450000     145500  Diesel  Individual       Manual   \n",
       "1  2014         370000     120000  Diesel  Individual       Manual   \n",
       "2  2006         158000     140000  Petrol  Individual       Manual   \n",
       "3  2010         225000     127000  Diesel  Individual       Manual   \n",
       "4  2007         130000     120000  Petrol  Individual       Manual   \n",
       "\n",
       "          owner  mileage  engine  max_power  seats  \n",
       "0   First Owner    23.40  1248.0      74.00    5.0  \n",
       "1  Second Owner    21.14  1498.0     103.52    5.0  \n",
       "2   Third Owner    17.70  1497.0      78.00    5.0  \n",
       "3   First Owner    23.00  1396.0      90.00    5.0  \n",
       "4   First Owner    16.10  1298.0      88.20    5.0  "
      ]
     },
     "execution_count": 68,
     "metadata": {},
     "output_type": "execute_result"
    }
   ],
   "source": [
    "df.head()"
   ]
  },
  {
   "cell_type": "code",
   "execution_count": 69,
   "metadata": {},
   "outputs": [
    {
     "data": {
      "text/plain": [
       "array(['Diesel', 'Petrol', 'LPG', 'CNG'], dtype=object)"
      ]
     },
     "execution_count": 69,
     "metadata": {},
     "output_type": "execute_result"
    }
   ],
   "source": [
    "df['fuel'].unique()"
   ]
  },
  {
   "cell_type": "code",
   "execution_count": 72,
   "metadata": {},
   "outputs": [],
   "source": [
    "df['fuel'].replace({'Diesel':0, 'Petrol':1, 'LPG':2, 'CNG':3}, inplace=True)"
   ]
  },
  {
   "cell_type": "code",
   "execution_count": 73,
   "metadata": {},
   "outputs": [
    {
     "data": {
      "text/plain": [
       "array(['Individual', 'Dealer', 'Trustmark Dealer'], dtype=object)"
      ]
     },
     "execution_count": 73,
     "metadata": {},
     "output_type": "execute_result"
    }
   ],
   "source": [
    "df['seller_type'].unique()"
   ]
  },
  {
   "cell_type": "code",
   "execution_count": 76,
   "metadata": {},
   "outputs": [],
   "source": [
    "df['seller_type'].replace({'Individual': 0, 'Dealer': 1, 'Trustmark Dealer':2}, inplace=True)"
   ]
  },
  {
   "cell_type": "code",
   "execution_count": 77,
   "metadata": {},
   "outputs": [
    {
     "data": {
      "text/plain": [
       "array(['Manual', 'Automatic'], dtype=object)"
      ]
     },
     "execution_count": 77,
     "metadata": {},
     "output_type": "execute_result"
    }
   ],
   "source": [
    "df['transmission'].unique()"
   ]
  },
  {
   "cell_type": "code",
   "execution_count": 79,
   "metadata": {},
   "outputs": [],
   "source": [
    "df['transmission'].replace({'Manual':0, 'Automatic':1}, inplace=True)"
   ]
  },
  {
   "cell_type": "code",
   "execution_count": 80,
   "metadata": {},
   "outputs": [
    {
     "data": {
      "text/plain": [
       "array(['First Owner', 'Second Owner', 'Third Owner',\n",
       "       'Fourth & Above Owner', 'Test Drive Car'], dtype=object)"
      ]
     },
     "execution_count": 80,
     "metadata": {},
     "output_type": "execute_result"
    }
   ],
   "source": [
    "df['owner'].unique()"
   ]
  },
  {
   "cell_type": "code",
   "execution_count": 82,
   "metadata": {},
   "outputs": [],
   "source": [
    "df['owner'].replace({'First Owner': 0, 'Second Owner': 1, 'Third Owner':2,\n",
    "                    'Fourth & Above Owner': 3, 'Test Drive Car': 4}, inplace=True)"
   ]
  },
  {
   "cell_type": "code",
   "execution_count": 83,
   "metadata": {},
   "outputs": [
    {
     "name": "stdout",
     "output_type": "stream",
     "text": [
      "<class 'pandas.core.frame.DataFrame'>\n",
      "Int64Index: 7906 entries, 0 to 8127\n",
      "Data columns (total 11 columns):\n",
      " #   Column         Non-Null Count  Dtype  \n",
      "---  ------         --------------  -----  \n",
      " 0   year           7906 non-null   int64  \n",
      " 1   selling_price  7906 non-null   int64  \n",
      " 2   km_driven      7906 non-null   int64  \n",
      " 3   fuel           7906 non-null   int64  \n",
      " 4   seller_type    7906 non-null   int64  \n",
      " 5   transmission   7906 non-null   int64  \n",
      " 6   owner          7906 non-null   int64  \n",
      " 7   mileage        7906 non-null   float64\n",
      " 8   engine         7906 non-null   float64\n",
      " 9   max_power      7906 non-null   float64\n",
      " 10  seats          7906 non-null   float64\n",
      "dtypes: float64(4), int64(7)\n",
      "memory usage: 741.2 KB\n"
     ]
    }
   ],
   "source": [
    "df.info()"
   ]
  },
  {
   "cell_type": "code",
   "execution_count": 101,
   "metadata": {},
   "outputs": [
    {
     "data": {
      "text/plain": [
       "year             0.412302\n",
       "selling_price    1.000000\n",
       "km_driven       -0.222158\n",
       "fuel            -0.201221\n",
       "seller_type      0.321389\n",
       "transmission     0.590269\n",
       "owner           -0.216514\n",
       "mileage         -0.126280\n",
       "engine           0.455682\n",
       "max_power        0.749674\n",
       "seats            0.041617\n",
       "Name: selling_price, dtype: float64"
      ]
     },
     "execution_count": 101,
     "metadata": {},
     "output_type": "execute_result"
    }
   ],
   "source": [
    "df.corr()['selling_price']"
   ]
  },
  {
   "cell_type": "code",
   "execution_count": null,
   "metadata": {},
   "outputs": [],
   "source": []
  },
  {
   "cell_type": "code",
   "execution_count": null,
   "metadata": {},
   "outputs": [],
   "source": []
  },
  {
   "cell_type": "code",
   "execution_count": 84,
   "metadata": {},
   "outputs": [],
   "source": [
    "X = df.drop('selling_price', axis=1)\n",
    "y = df['selling_price']"
   ]
  },
  {
   "cell_type": "code",
   "execution_count": 85,
   "metadata": {},
   "outputs": [
    {
     "name": "stdout",
     "output_type": "stream",
     "text": [
      "(7906, 10)\n",
      "(7906,)\n"
     ]
    }
   ],
   "source": [
    "print(X.shape)\n",
    "print(y.shape)"
   ]
  },
  {
   "cell_type": "code",
   "execution_count": null,
   "metadata": {},
   "outputs": [],
   "source": []
  },
  {
   "cell_type": "code",
   "execution_count": null,
   "metadata": {},
   "outputs": [],
   "source": []
  },
  {
   "cell_type": "markdown",
   "metadata": {},
   "source": [
    "## Machine Learning"
   ]
  },
  {
   "cell_type": "code",
   "execution_count": 102,
   "metadata": {},
   "outputs": [],
   "source": [
    "from sklearn.model_selection import train_test_split"
   ]
  },
  {
   "cell_type": "code",
   "execution_count": 103,
   "metadata": {},
   "outputs": [],
   "source": [
    "X_train, X_test, y_train, y_test = train_test_split(X, y, random_state=2)"
   ]
  },
  {
   "cell_type": "code",
   "execution_count": 104,
   "metadata": {},
   "outputs": [],
   "source": [
    "lr = LinearRegression()"
   ]
  },
  {
   "cell_type": "code",
   "execution_count": 105,
   "metadata": {},
   "outputs": [
    {
     "name": "stdout",
     "output_type": "stream",
     "text": [
      "Wall time: 38 ms\n"
     ]
    },
    {
     "data": {
      "text/plain": [
       "LinearRegression()"
      ]
     },
     "execution_count": 105,
     "metadata": {},
     "output_type": "execute_result"
    }
   ],
   "source": [
    "%time lr.fit(X_train, y_train)"
   ]
  },
  {
   "cell_type": "code",
   "execution_count": 106,
   "metadata": {},
   "outputs": [],
   "source": [
    "y_pred = lr.predict(X_test)"
   ]
  },
  {
   "cell_type": "code",
   "execution_count": 108,
   "metadata": {},
   "outputs": [
    {
     "data": {
      "text/plain": [
       "0.6701974270864869"
      ]
     },
     "execution_count": 108,
     "metadata": {},
     "output_type": "execute_result"
    }
   ],
   "source": [
    "metrics.r2_score(y_test, y_pred)"
   ]
  },
  {
   "cell_type": "code",
   "execution_count": null,
   "metadata": {},
   "outputs": [],
   "source": []
  },
  {
   "cell_type": "code",
   "execution_count": null,
   "metadata": {},
   "outputs": [],
   "source": []
  },
  {
   "cell_type": "markdown",
   "metadata": {},
   "source": [
    "## Ensemble methods"
   ]
  },
  {
   "cell_type": "code",
   "execution_count": 114,
   "metadata": {},
   "outputs": [],
   "source": [
    "from sklearn.ensemble import GradientBoostingRegressor"
   ]
  },
  {
   "cell_type": "code",
   "execution_count": 115,
   "metadata": {},
   "outputs": [],
   "source": [
    "gbr = GradientBoostingRegressor()"
   ]
  },
  {
   "cell_type": "code",
   "execution_count": 116,
   "metadata": {},
   "outputs": [],
   "source": [
    "y_pred = gbr.fit(X_train, y_train).predict(X_test)"
   ]
  },
  {
   "cell_type": "code",
   "execution_count": 117,
   "metadata": {},
   "outputs": [
    {
     "data": {
      "text/plain": [
       "0.9568429155746111"
      ]
     },
     "execution_count": 117,
     "metadata": {},
     "output_type": "execute_result"
    }
   ],
   "source": [
    "metrics.r2_score(y_test, y_pred)"
   ]
  },
  {
   "cell_type": "markdown",
   "metadata": {},
   "source": [
    "### Saving the model"
   ]
  },
  {
   "cell_type": "code",
   "execution_count": 118,
   "metadata": {},
   "outputs": [],
   "source": [
    "import pickle"
   ]
  },
  {
   "cell_type": "code",
   "execution_count": 120,
   "metadata": {},
   "outputs": [],
   "source": [
    "with open('GBR_Regressor.pkl', 'wb') as f:\n",
    "    pickle.dump(gbr, f)"
   ]
  },
  {
   "cell_type": "code",
   "execution_count": null,
   "metadata": {},
   "outputs": [],
   "source": []
  }
 ],
 "metadata": {
  "kernelspec": {
   "display_name": "Python 3",
   "language": "python",
   "name": "python3"
  },
  "language_info": {
   "codemirror_mode": {
    "name": "ipython",
    "version": 3
   },
   "file_extension": ".py",
   "mimetype": "text/x-python",
   "name": "python",
   "nbconvert_exporter": "python",
   "pygments_lexer": "ipython3",
   "version": "3.7.3"
  }
 },
 "nbformat": 4,
 "nbformat_minor": 4
}
